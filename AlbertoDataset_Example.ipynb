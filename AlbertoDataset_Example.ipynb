{
 "cells": [
  {
   "cell_type": "markdown",
   "metadata": {},
   "source": [
    "## Basic setup"
   ]
  },
  {
   "cell_type": "code",
   "execution_count": 2,
   "metadata": {},
   "outputs": [
    {
     "name": "stdout",
     "output_type": "stream",
     "text": [
      "python version: 3.10.12 (main, Nov 20 2023, 15:14:05) [GCC 11.4.0]\n",
      "Pandas version: 2.1.4\n",
      "Numpy version: 1.26.2\n"
     ]
    }
   ],
   "source": [
    "import uproot\n",
    "import numpy as np\n",
    "import pandas as pd\n",
    "import awkward as ak\n",
    "\n",
    "#plots\n",
    "import matplotlib.pyplot as plt\n",
    "import SBNDstyle\n",
    "plt.style.use('SBND.mplstyle')\n",
    "import math\n",
    "\n",
    "import pandas as pd\n",
    "\n",
    "import sys\n",
    "import gdown\n",
    "\n",
    "print(\"python version:\", sys.version)\n",
    "print(\"Pandas version:\", pd.__version__)\n",
    "print(\"Numpy version:\", np.__version__)"
   ]
  },
  {
   "cell_type": "code",
   "execution_count": 16,
   "metadata": {},
   "outputs": [
    {
     "name": "stdout",
     "output_type": "stream",
     "text": [
      "Downloading HNL_35MeV_50k_PROCCESSED_pyPROCCESSED.root\n"
     ]
    },
    {
     "name": "stderr",
     "output_type": "stream",
     "text": [
      "Downloading...\n",
      "From: https://drive.google.com/uc?id=1SBj7nH7WQA2d5pjRCrIpSdAVbkUyxCPu\n",
      "To: /home/rodrigoa/HNL/AlbertoDataset100MeVs/HNL_35MeV_50k_PROCCESSED_pyPROCCESSED.root\n",
      "100%|██████████| 7.60M/7.60M [00:00<00:00, 59.2MB/s]\n"
     ]
    },
    {
     "name": "stdout",
     "output_type": "stream",
     "text": [
      "Downloading HNL_10MeV_50k_PROCCESSED_pyPROCCESSED.root\n"
     ]
    },
    {
     "name": "stderr",
     "output_type": "stream",
     "text": [
      "Downloading...\n",
      "From: https://drive.google.com/uc?id=1w4LL7R3TroXG1nNT65GAcRnlSkLWW_aO\n",
      "To: /home/rodrigoa/HNL/AlbertoDataset100MeVs/HNL_10MeV_50k_PROCCESSED_pyPROCCESSED.root\n",
      "100%|██████████| 7.82M/7.82M [00:00<00:00, 42.3MB/s]\n"
     ]
    },
    {
     "name": "stdout",
     "output_type": "stream",
     "text": [
      "Downloading HNL_100MeV_50k_PROCCESSED_pyPROCCESSED.root\n"
     ]
    },
    {
     "name": "stderr",
     "output_type": "stream",
     "text": [
      "Downloading...\n",
      "From: https://drive.google.com/uc?id=1S5JjV4O0ufTx-GpGgikCcRZ69J1ACjg4\n",
      "To: /home/rodrigoa/HNL/AlbertoDataset100MeVs/HNL_100MeV_50k_PROCCESSED_pyPROCCESSED.root\n",
      "100%|██████████| 7.43M/7.43M [00:00<00:00, 33.2MB/s]\n"
     ]
    },
    {
     "name": "stdout",
     "output_type": "stream",
     "text": [
      "Downloading intime_cosmics_110k_PROCCESSED_pyPROCCESSED.root\n"
     ]
    },
    {
     "name": "stderr",
     "output_type": "stream",
     "text": [
      "Downloading...\n",
      "From: https://drive.google.com/uc?id=1tWHMRAS2BtH42uL77PXrbEb4cC3K2qzP\n",
      "To: /home/rodrigoa/HNL/AlbertoDataset100MeVs/intime_cosmics_110k_PROCCESSED_pyPROCCESSED.root\n",
      "100%|██████████| 1.06M/1.06M [00:00<00:00, 7.70MB/s]\n"
     ]
    },
    {
     "name": "stdout",
     "output_type": "stream",
     "text": [
      "Downloading rockbox_500k_PROCCESSED_pyPROCCESSED.root\n"
     ]
    },
    {
     "name": "stderr",
     "output_type": "stream",
     "text": [
      "Downloading...\n",
      "From: https://drive.google.com/uc?id=1ikOESTKSdSwOsN2gP2QXtEwWEAdLWNqA\n",
      "To: /home/rodrigoa/HNL/AlbertoDataset100MeVs/rockbox_500k_PROCCESSED_pyPROCCESSED.root\n",
      "100%|██████████| 70.1M/70.1M [00:01<00:00, 62.3MB/s]\n"
     ]
    },
    {
     "name": "stdout",
     "output_type": "stream",
     "text": [
      "Downloading pi0_130k_PROCCESSED_pyPROCCESSED.root\n"
     ]
    },
    {
     "name": "stderr",
     "output_type": "stream",
     "text": [
      "Downloading...\n",
      "From: https://drive.google.com/uc?id=1QCXi5eY3rF7-6nAJDKBqd6tPScULk7PW\n",
      "To: /home/rodrigoa/HNL/AlbertoDataset100MeVs/pi0_130k_PROCCESSED_pyPROCCESSED.root\n",
      "100%|██████████| 20.0M/20.0M [00:00<00:00, 59.2MB/s]\n"
     ]
    },
    {
     "name": "stdout",
     "output_type": "stream",
     "text": [
      "Downloading ccnue_33k_PROCCESSED_pyPROCCESSED.root\n"
     ]
    },
    {
     "name": "stderr",
     "output_type": "stream",
     "text": [
      "Downloading...\n",
      "From: https://drive.google.com/uc?id=1pPQGyhH_EcvOy8s-8zz9GfMWPtnysvg3\n",
      "To: /home/rodrigoa/HNL/AlbertoDataset100MeVs/ccnue_33k_PROCCESSED_pyPROCCESSED.root\n",
      "100%|██████████| 6.04M/6.04M [00:00<00:00, 27.1MB/s]\n"
     ]
    }
   ],
   "source": [
    "#si esta celda no te funcionam, solo tienes que bajar los datos de mi Google drive a mano: https://drive.google.com/drive/folders/1fDK8mG9Da0R0ZV4auc8vYDBthoRSuQjx?usp=sharing\n",
    "\n",
    "url = 'https://drive.google.com/uc?id='\n",
    "\n",
    "#datos señal\n",
    "id_35MeV =\"1SBj7nH7WQA2d5pjRCrIpSdAVbkUyxCPu\"\n",
    "id_10MeV =\"1w4LL7R3TroXG1nNT65GAcRnlSkLWW_aO\"\n",
    "id_100MeV=\"1S5JjV4O0ufTx-GpGgikCcRZ69J1ACjg4\"\n",
    "\n",
    "#datos fondo\n",
    "id_intime_cosmics=\"1tWHMRAS2BtH42uL77PXrbEb4cC3K2qzP\" #muones de cosmicos\n",
    "id_nus_inclusive=\"1ikOESTKSdSwOsN2gP2QXtEwWEAdLWNqA\" #neutrinos del modelo estandar, todos\n",
    "\n",
    "#canales menos presentes, pero que son el principal fondo que \"replica\" la señal, dos showers(pi0) o \n",
    "# una shower(ccnue) cuando no reconstuyes bien o las dos showers van tan pegadas que no las distingues/separas\n",
    "id_pi0=\"1QCXi5eY3rF7-6nAJDKBqd6tPScULk7PW\"\n",
    "id_ccnue=\"1pPQGyhH_EcvOy8s-8zz9GfMWPtnysvg3\"\n",
    "\n",
    "HNL_35=\"HNL_35MeV_50k_PROCCESSED_pyPROCCESSED.root\"\n",
    "HNL_10=\"HNL_10MeV_50k_PROCCESSED_pyPROCCESSED.root\"\n",
    "HNL_100=\"HNL_100MeV_50k_PROCCESSED_pyPROCCESSED.root\"\n",
    "NUS_file=\"rockbox_500k_PROCCESSED_pyPROCCESSED.root\"\n",
    "COS_file=\"intime_cosmics_110k_PROCCESSED_pyPROCCESSED.root\"\n",
    "PI0_file=\"pi0_130k_PROCCESSED_pyPROCCESSED.root\"\n",
    "CCNUE_file=\"ccnue_33k_PROCCESSED_pyPROCCESSED.root\"\n",
    "\n",
    "ids=[\n",
    "    id_35MeV,\n",
    "    id_10MeV,\n",
    "    id_100MeV,\n",
    "    id_intime_cosmics,\n",
    "    id_nus_inclusive,\n",
    "    id_pi0,\n",
    "    id_ccnue]\n",
    "\n",
    "files=[\n",
    "    HNL_35,\n",
    "    HNL_10,\n",
    "    HNL_100,\n",
    "    COS_file,\n",
    "    NUS_file,\n",
    "    PI0_file,\n",
    "    CCNUE_file]\n",
    "\n",
    "for id, file in zip(ids,files):\n",
    "    print(\"Downloading\",file)\n",
    "    gdown.download(url+id,file,quiet=False)"
   ]
  },
  {
   "cell_type": "code",
   "execution_count": 17,
   "metadata": {},
   "outputs": [
    {
     "name": "stdout",
     "output_type": "stream",
     "text": [
      "-----------------------------------------------\n",
      "target total spill = 200000000.0\n",
      "hnl + nu spill = 820000\n",
      "target intime spill = 67209588.86924964\n",
      "scale pot factor = 7.0009988405468375\n",
      "-----------------------------------------------\n",
      "POTs scaling HNL:    0.11273521278615192\n",
      "POTs scaling NUS:    22.16498266245207\n",
      "POTs scaling COS:    7.0009988405468375\n",
      "POTs scaling PI0:    4.915479861577587\n",
      "POTs scaling CCNUE:  1.3160456677155872\n"
     ]
    },
    {
     "name": "stderr",
     "output_type": "stream",
     "text": [
      "/tmp/ipykernel_340876/2046513667.py:71: SettingWithCopyWarning: \n",
      "A value is trying to be set on a copy of a slice from a DataFrame\n",
      "\n",
      "See the caveats in the documentation: https://pandas.pydata.org/pandas-docs/stable/user_guide/indexing.html#returning-a-view-versus-a-copy\n",
      "  signal_df['slc_true_event_type'][signal_df['slc_true_event_type']==1]=0;\n"
     ]
    }
   ],
   "source": [
    "from aux_functions import *\n",
    "\n",
    "HNL_file=\"HNL_35MeV_50k_PROCCESSED_pyPROCCESSED.root\"\n",
    "HNL_file=\"HNL_150MeV_50k_PROCCESSED_pyPROCCESSED.root\"\n",
    "HNL_file=\"HNL_100MeV_50k_PROCCESSED_pyPROCCESSED.root\"\n",
    "\n",
    "\n",
    "NUS_file  =\"rockbox_500k_PROCCESSED_pyPROCCESSED.root\"\n",
    "COS_file  =\"intime_cosmics_110k_PROCCESSED_pyPROCCESSED.root\"\n",
    "PI0_file  =\"pi0_130k_PROCCESSED_pyPROCCESSED.root\"\n",
    "CCNUE_file=\"ccnue_33k_PROCCESSED_pyPROCCESSED.root\"\n",
    "\n",
    "\n",
    "\n",
    "globals_nus     = file_globals(NUS_file     ,file_type=\"nu\")\n",
    "globals_cosmics = file_globals(COS_file,file_type=\"cosmics\")\n",
    "globals_hnl     = file_globals(HNL_file         ,file_type=\"hnl\")\n",
    "globals_pi0     = file_globals(PI0_file         ,file_type=\"pi0\")\n",
    "globals_ccnue   = file_globals(CCNUE_file       ,file_type=\"ccnue\")\n",
    "cosmics_reescale(globals_cosmics,globals_nus,globals_nus)\n",
    "\n",
    "print(\"POTs scaling HNL:   \",globals_hnl[\"POTs_scaling\"])\n",
    "print(\"POTs scaling NUS:   \",globals_nus[\"POTs_scaling\"])\n",
    "print(\"POTs scaling COS:   \",globals_cosmics[\"POTs_scaling\"])\n",
    "print(\"POTs scaling PI0:   \",globals_pi0[\"POTs_scaling\"])\n",
    "print(\"POTs scaling CCNUE: \",globals_ccnue[\"POTs_scaling\"])\n",
    "\n",
    "\n",
    "#Prepare signal and background dataframes\n",
    "file_path = \"event_branches.txt\"\n",
    "with open(file_path, \"r\") as file:\n",
    "    array_of_strings = file.readlines()\n",
    "branches = [string.strip() for string in array_of_strings]\n",
    "\n",
    "signal=uproot.open(HNL_file)[\"hnlana/events\"]\n",
    "signal_df = pd.DataFrame()\n",
    "\n",
    "bckg_SM=uproot.open(NUS_file)[\"hnlana/events\"]\n",
    "bckg_SM_df = pd.DataFrame()\n",
    "\n",
    "bckg_cosmics=uproot.open(COS_file)[\"hnlana/events\"]\n",
    "bckg_cosmics_df = pd.DataFrame()\n",
    "\n",
    "bckg_pi0=uproot.open(PI0_file)[\"hnlana/events\"]\n",
    "bckg_pi0_df = pd.DataFrame()\n",
    "\n",
    "bckg_ccnue=uproot.open(CCNUE_file)[\"hnlana/events\"]\n",
    "bckg_ccnue_df = pd.DataFrame()\n",
    "\n",
    "for df,tree in zip([signal_df,bckg_SM_df,bckg_cosmics_df,bckg_pi0_df,bckg_ccnue_df],[signal,bckg_SM,bckg_cosmics,bckg_pi0,bckg_ccnue]):\n",
    "# for df,tree in zip([signal_df,bckg_SM_df,bckg_pi0_df,bckg_ccnue_df],[signal,bckg_SM,bckg_pi0,bckg_ccnue]):\n",
    "    for branch in branches:\n",
    "        df[branch] = np.array((tree[branch].array()))\n",
    "\n",
    "for df, pots in zip([signal_df,bckg_SM_df,bckg_cosmics_df,bckg_pi0_df,bckg_ccnue_df],[globals_hnl['POTs_scaling'],globals_nus['POTs_scaling'],globals_cosmics['POTs_scaling'],globals_pi0['POTs_scaling'],globals_ccnue['POTs_scaling']]):\n",
    "# for df, pots in zip([signal_df,bckg_SM_df,bckg_pi0_df,bckg_ccnue_df],[globals_hnl['POTs_scaling'],globals_nus['POTs_scaling'],globals_pi0['POTs_scaling'],globals_ccnue['POTs_scaling']]):\n",
    "    df['weights'] = pots\n",
    "    \n",
    "#remove pi0 events from SM background, then add pi0 sample to SM background\n",
    "bckg_SM_df  = bckg_SM_df  [bckg_SM_df ['slc_true_event_type']!=3]#remove pi0s\n",
    "bckg_pi0_df = bckg_pi0_df [bckg_pi0_df['slc_true_event_type']==3]#only keep pi0s, in case there are minor events from other types\n",
    "\n",
    "#remove ccnue events from SM background, then add ccnue sample to SM background\n",
    "bckg_SM_df    = bckg_SM_df    [bckg_SM_df ['slc_true_event_type']!=6]#remove ccnue\n",
    "bckg_ccnue_df = bckg_ccnue_df [bckg_ccnue_df['slc_true_event_type']==6]#only keep ccnue, in case there are minor events from other types\n",
    "\n",
    "bckg_SM_df = pd.concat([bckg_SM_df,bckg_pi0_df,bckg_ccnue_df],ignore_index=True)\n",
    "\n",
    "\n",
    "#set all signal events to slc_true_event_type = 0\n",
    "signal_df['slc_true_event_type'][signal_df['slc_true_event_type']==1]=0; \n",
    "\n",
    "# #remove cosmics from signal sample (will be taken into account later)\n",
    "signal_df = signal_df[signal_df['slc_true_event_type']!=9]\n",
    "\n",
    "\n",
    "# plt.hist(bckg_SM_df[\"slc_true_event_type\"], bins=range(9),weights=bckg_SM_df[\"weights\"], align='left',histtype='step')\n",
    "\n",
    "bckg_SM_df = pd.concat([bckg_SM_df,bckg_pi0_df,bckg_ccnue_df],ignore_index=True)\n",
    "# plt.hist(bckg_SM_df[\"slc_true_event_type\"], bins=range(9),weights=bckg_SM_df[\"weights\"], align='left',histtype='step')\n",
    "# plt.semilogy()"
   ]
  },
  {
   "cell_type": "code",
   "execution_count": 19,
   "metadata": {},
   "outputs": [
    {
     "name": "stdout",
     "output_type": "stream",
     "text": [
      "signal\n",
      "bckg\n",
      "bckg_cosmic\n",
      "Signal\n",
      "40741 35491 87.11371836724675 %\n",
      "Background: SM\n",
      "(221619, 77)\n",
      "Background: cosmic\n",
      "(2436, 77)\n"
     ]
    },
    {
     "name": "stderr",
     "output_type": "stream",
     "text": [
      "/tmp/ipykernel_340876/185116338.py:40: SettingWithCopyWarning: \n",
      "A value is trying to be set on a copy of a slice from a DataFrame\n",
      "\n",
      "See the caveats in the documentation: https://pandas.pydata.org/pandas-docs/stable/user_guide/indexing.html#returning-a-view-versus-a-copy\n",
      "  dfs_dict[df][\"slc_opt0_measPE\"][dfs_dict[df][\"slc_opt0_measPE\"]>thresold]=-1\n",
      "/tmp/ipykernel_340876/185116338.py:40: SettingWithCopyWarning: \n",
      "A value is trying to be set on a copy of a slice from a DataFrame\n",
      "\n",
      "See the caveats in the documentation: https://pandas.pydata.org/pandas-docs/stable/user_guide/indexing.html#returning-a-view-versus-a-copy\n",
      "  dfs_dict[df][\"slc_opt0_measPE\"][dfs_dict[df][\"slc_opt0_measPE\"]>thresold]=-1\n",
      "/tmp/ipykernel_340876/185116338.py:40: SettingWithCopyWarning: \n",
      "A value is trying to be set on a copy of a slice from a DataFrame\n",
      "\n",
      "See the caveats in the documentation: https://pandas.pydata.org/pandas-docs/stable/user_guide/indexing.html#returning-a-view-versus-a-copy\n",
      "  dfs_dict[df][\"slc_opt0_measPE\"][dfs_dict[df][\"slc_opt0_measPE\"]>thresold]=-1\n"
     ]
    }
   ],
   "source": [
    "# prepare data in apropiate format: Pandas DataFrame\n",
    "\n",
    "\n",
    "Start_size = signal_df.shape[0]\n",
    "dfs_dict = {\"signal\": signal_df, \"bckg\": bckg_SM_df, \"bckg_cosmic\": bckg_cosmics_df}\n",
    "# dfs_dict = {\"signal\": signal_df, \"bckg\": bckg_SM_df}\n",
    "\n",
    "for df in dfs_dict.keys():\n",
    "    \n",
    "    #This should be done in the pre-processing\n",
    "    \n",
    "    dfs_dict[df][\"slc_opt0_time_corrected_Z_pandora\"]=(dfs_dict[df][\"slc_opt0_time_corrected_Z_pandora\"].array*1000)%18.936\n",
    "    \n",
    "    ##Minimal CUTs (prob should be done in the pre-processing too)\n",
    "    dfs_dict[df] = dfs_dict[df] [(dfs_dict[df][\"slc_n_shws\"] > 0)*(dfs_dict[df][\"slc_n_shws\"] < 3)]\n",
    "    dfs_dict[df] = dfs_dict[df] [(dfs_dict[df][\"slc_opt0_time\"] >.3 )*(dfs_dict[df][\"slc_opt0_time\"] <2 )]\n",
    "    \n",
    "    \n",
    "    var=(\n",
    "    dfs_dict[df][\"slc_n_primary_razzle_photons\"]+\n",
    "\n",
    "    dfs_dict[df][\"slc_n_primary_razzle_electrons\"]-\n",
    "    dfs_dict[df][\"slc_n_primary_dazzle_muons\"]-\n",
    "    dfs_dict[df][\"slc_n_primary_dazzle_pions\"]-\n",
    "    dfs_dict[df][\"slc_n_primary_dazzle_protons\"]\n",
    "    )\n",
    "    dfs_dict[df][\"slc_razzle_dazzle_combined\"]=var\n",
    "\n",
    "    var=(\n",
    "    dfs_dict[df][\"slc_n_razzled_photons\"]+\n",
    "    dfs_dict[df][\"slc_n_razzled_electrons\"]-\n",
    "    dfs_dict[df][\"slc_n_razzled_muons\"]-\n",
    "    dfs_dict[df][\"slc_n_razzled_pions\"]-\n",
    "    dfs_dict[df][\"slc_n_razzled_protons\"]\n",
    "    )\n",
    "    dfs_dict[df][\"slc_razzled_combined\"]=var\n",
    "\n",
    "    thresold=1e10 #maxPEs below sane value\n",
    "    \n",
    "    dfs_dict[df][\"slc_opt0_measPE\"][dfs_dict[df][\"slc_opt0_measPE\"]>thresold]=-1\n",
    "    \n",
    "    nan_values = dfs_dict[df][\"slc_opt0_frac\"].isna()\n",
    "    dfs_dict[df][\"slc_opt0_frac\"].fillna(1, inplace=True)\n",
    "\n",
    "\n",
    "    print(df)\n",
    "\n",
    "\n",
    "\n",
    "\n",
    "\n",
    "signal_df=dfs_dict[\"signal\"]\n",
    "bckg_df=dfs_dict[\"bckg\"]\n",
    "bckg_df_cosmic=dfs_dict[\"bckg_cosmic\"]\n",
    "\n",
    "# signal_0cosmics_df=dfs_dict[\"signal_0cosmics\"]\n",
    "\n",
    "Size_sample = 12000\n",
    "#if there were many   bckg events\n",
    "# bckg_df = bckg_df.head(Size_sample)\n",
    "#if there were many signal events\n",
    "# signal_df = signal_df.head(Size_sample)\n",
    "\n",
    "print(\"Signal\")\n",
    "print(Start_size, signal_df.shape[0], signal_df.shape[0]/Start_size*100, \"%\")\n",
    "\n",
    "\n",
    "print(\"Background: SM\")\n",
    "print(bckg_df.shape)\n",
    "\n",
    "print(\"Background: cosmic\")\n",
    "print(bckg_df_cosmic.shape)\n",
    "\n",
    "background_df = bckg_df\n",
    "background_df = pd.concat([bckg_df, bckg_df_cosmic])\n",
    "# print(\"Background: SM + cosmic\")\n",
    "# print(background_df.shape)"
   ]
  },
  {
   "cell_type": "markdown",
   "metadata": {},
   "source": [
    "## Test plot"
   ]
  },
  {
   "cell_type": "code",
   "execution_count": 35,
   "metadata": {},
   "outputs": [
    {
     "data": {
      "text/plain": [
       "[]"
      ]
     },
     "execution_count": 35,
     "metadata": {},
     "output_type": "execute_result"
    },
    {
     "data": {
      "image/png": "[encoded data removed]",
      "text/plain": [
       "<Figure size 600x600 with 1 Axes>"
      ]
     },
     "metadata": {},
     "output_type": "display_data"
    }
   ],
   "source": [
    "#Podemos plotear variables, por ejemplo, el timing\n",
    "\n",
    "#stole from ATLAS color cycle\n",
    "c1 = '#444444'\n",
    "# c2 = '#e4e4e4'\n",
    "c3 = '#af0000'\n",
    "c4 = '#008700'\n",
    "c5 = '#005f87'\n",
    "c6 = '#afaf00'\n",
    "c7 = '#d75f00'\n",
    "c8 = '#d70087'\n",
    "c9 = '#8700af'\n",
    "c10 = '#0087af'\n",
    "c11 = '#5f7800'\n",
    "c12 = '#5f7800'\n",
    "c13 = '#5f7800'\n",
    "\n",
    "my_cycle = [c1, c3, c4, c5, c6, c7, c8, c9, c10,c11,c12,c13]\n",
    "\n",
    "plt.rcParams['axes.prop_cycle'] = plt.cycler(color=my_cycle)\n",
    "\n",
    "event_label_dict = {                \n",
    "                0:  r\"Signal HNL ${\\nu e^+e^-}$\"       \n",
    "                # , 1:  r\"Non-FV HNL ${\\nu e^+e^-}$\"        \n",
    "                # , 2:  \"Dirt HNL\"         \n",
    "                , 3:  \"NC ${\\pi}^{0}$\"        \n",
    "                , 4:  \"Other NC\"         \n",
    "                , 5:  \"CC $\\\\nu_{\\mu}$\"          \n",
    "                , 6:  \"CC $\\\\nu_{e}$\"           \n",
    "                , 7:  \"Non-FV $\\\\nu$\"         \n",
    "                , 8:  \"Dirt $\\\\nu$\"          \n",
    "                , 9:  \"Cosmic\"          \n",
    "                # , -1: \"Unknown\"\n",
    "                # , -99: \"Bad Reco Signal\"\n",
    "            }\n",
    "\n",
    "combined=pd.concat([signal_df,background_df])\n",
    "\n",
    "plt.figure(figsize=(6,6))\n",
    "\n",
    "\n",
    "for df in [combined]:\n",
    "    counter=0\n",
    "    for i in event_label_dict.keys():\n",
    "        plt.hist(df[\"slc_opt0_time_corrected_Z_pandora\"][df[\"slc_true_event_type\"]==i], bins=30,range=[0,19],weights=df[\"weights\"][df[\"slc_true_event_type\"]==i],label=event_label_dict[i],histtype='step',linewidth=2);\n",
    "        counter+=1;\n",
    "        \n",
    "plt.legend( loc='upper right', fontsize=10,frameon=True,ncol=2)\n",
    "plt.ylim(1,1e8)\n",
    "plt.xlim(0,19)\n",
    "plt.xlabel(\"Arrival time at SBND upstream wall, \\nall bunches combined [ns]\",fontsize=14)\n",
    "plt.ylabel(\"Events\",fontsize=14)\n",
    "plt.title(\"Arrival time at SBND upstream wall for signal (HNL)\\n and SM backgrounds, $10^{21}$ POTs/3years\",fontsize=20)\n",
    "plt.semilogy()"
   ]
  },
  {
   "cell_type": "code",
   "execution_count": 31,
   "metadata": {},
   "outputs": [],
   "source": [
    "frac=0.5\n",
    "signal_train = signal_df.sample(frac=frac,random_state=2)\n",
    "# signal_train = signal_df.sample(frac=0.5)\n",
    "signal_test  = signal_df.drop(signal_train.index)\n",
    "# signal_train_0cosmics = signal_0cosmics_df.sample(frac=0.5,random_state=200)\n",
    "\n",
    "bckg_train = background_df.sample(frac=frac,random_state=2)\n",
    "# bckg_train = bckg_df.sample(frac=0.5)\n",
    "bckg_test  = background_df.drop(bckg_train.index)\n",
    "\n",
    "\n",
    "train_df = pd.concat([signal_train, bckg_train]).sample(frac=1, random_state=200)\n",
    "train_df['label'] = np.where(train_df['slc_true_event_type'] != 0, 0, 1)\n",
    "# train_0cosmics_df = pd.concat([signal_train_0cosmics, bckg_train]).sample(frac=1, random_state=200)\n",
    "# train_0cosmics_df['label'] = np.where(train_0cosmics_df['slc_true_event_type'] != 0, 0, 1)\n",
    "\n",
    "\n",
    "test_df = pd.concat([signal_test, bckg_test]).sample(frac=1, random_state=200)\n",
    "test_df['label'] = np.where(test_df['slc_true_event_type'] != 0, 0, 1)\n",
    "\n"
   ]
  },
  {
   "cell_type": "markdown",
   "metadata": {},
   "source": [
    "## Variables a usar en el entrenamiento"
   ]
  },
  {
   "cell_type": "code",
   "execution_count": 32,
   "metadata": {},
   "outputs": [],
   "source": [
    "#estas son las que yo uso, las que están comentadas están en los datos, pero no las uso. Las que ponen true en los .root no las podemos usar (es trampa).\n",
    "\n",
    "features=[\n",
    "# \"slc_n_pfps\",\n",
    "# \"slc_is_clear_cosmics\",\n",
    "\"slc_n_primary_daughters\",\n",
    "\"slc_n_primary_trks\",\n",
    "\"slc_n_primary_shws\",\n",
    "\"slc_crumbs_score\",\n",
    "\"slc_crumbs_ccnue_score\",\n",
    "\"slc_opt0_time_corrected_Z_pandora\",\n",
    "\"slc_opt0_measPE\",\n",
    "\"slc_max_pfp_shower_open_angle\",\n",
    "\"slc_max_pfp_shower_energy\",\n",
    "\"slc_n_stub\",\n",
    "\"slc_total_track_E\",\n",
    "\"slc_total_shower_E\",\n",
    "\"slc_razzle_dazzle_combined\",\n",
    "\"slc_razzled_combined\",\n",
    "\"slc_max_pfp_shower_conv_gap\",\n",
    "\"slc_max_pfp_shower_dedx\",\n",
    "\n",
    "\"slc_opt0_CRT_veto_PEs\",\n",
    "# \"slc_opt0_CRT_veto_Amp\",\n",
    "# \"slc_opt0_CRT_veto\",\n",
    "# \"slc_opt0_CRT_veto_is_downstream\",\n",
    "\"slc_stub_charge\",\n",
    "\"slc_opt0_X\",\n",
    "\n",
    "\n",
    "# \"slc_opt0_frac\",\n",
    "# \"slc_opt0_score\",\n",
    "# \"slc_opt0_hypoPE\",\n",
    "\n",
    "# \"slc_n_dazzle_pions_thresh\",\n",
    "# \"slc_n_dazzle_protons_thresh\",\n",
    "# \"slc_n_primary_dazzle_pions_thresh\",\n",
    "# \"slc_n_razzled_pions_thresh\",\n",
    "# \"slc_n_razzled_protons_thresh\",\n",
    "# \"slc_n_primary_razzled_pions_thresh\",\n",
    "# \"slc_n_primary_dazzle_protons_thresh\",\n",
    "# \"slc_n_primary_razzled_protons_thresh\",\n",
    "\n",
    "# \"slc_is_fv\",\n",
    "\"slc_vtx_x\",\n",
    "\"slc_vtx_y\",\n",
    "\"slc_vtx_z\",\n",
    "# \"slc_crumbs_nc_score\",\n",
    "# \"slc_n_trks\",\n",
    "# \"slc_n_shws\",\n",
    "# \"slc_n_primary_razzle_other\",\n",
    "# \"slc_n_dazzle_protons\",\n",
    "# \"slc_n_dazzle_pions\",\n",
    "# \"slc_n_dazzle_muons\",\n",
    "# \"slc_n_primary_dazzle_protons\",\n",
    "# \"slc_n_dazzle_other\",\n",
    "# \"slc_n_primary_dazzle_muons\",\n",
    "# \"slc_n_primary_dazzle_pions\",\n",
    "# \"slc_n_primary_dazzle_other\",\n",
    "# \"slc_n_razzle_electrons\",\n",
    "# \"slc_n_razzle_photons\",\n",
    "# \"slc_n_razzle_other\",\n",
    "# \"slc_n_primary_razzle_electrons\",\n",
    "# \"slc_n_primary_razzle_photons\",\n",
    "# \"slc_n_razzled_electrons\",\n",
    "# \"slc_n_razzled_muons\",\n",
    "# \"slc_n_razzled_photons\",\n",
    "# \"slc_n_razzled_pions\",\n",
    "# \"slc_n_razzled_protons\",\n",
    "# \"slc_n_primary_razzled_electrons\",\n",
    "# \"slc_n_primary_razzled_muons\",\n",
    "# \"slc_n_primary_razzled_photons\",\n",
    "# \"slc_n_primary_razzled_pions\",\n",
    "# \"slc_n_primary_razzled_protons\",\n",
    "\n",
    "]\n",
    "\n",
    "train_df = train_df.replace({True: 1, False: 0})\n",
    "test_df = test_df.replace({True: 1, False: 0})\n",
    "\n",
    "\n",
    "train_df['label'] = train_df.label.astype('category')\n",
    "test_df ['label'] = test_df .label.astype('category')\n"
   ]
  },
  {
   "cell_type": "markdown",
   "metadata": {},
   "source": [
    "## Tu Red neuronal:"
   ]
  },
  {
   "cell_type": "code",
   "execution_count": null,
   "metadata": {},
   "outputs": [],
   "source": [
    "## Los dataframes de train y test ya estan listos para ser usados en tu red. La variable a predecir es 'label' que es 1 para señal y 0 para background :)\n",
    "\n",
    "##IMPORTANTE: cuando entrenes la red, no olvides utilizar las weights, estan incluidas en la columna 'weights' de los dataframes de train y test. \n",
    "# Esto es porque cada muestra de señales y fondo está hecha con distinta normalizacion de protones on target (POTs), y por lo tanto, tienen distinta estadistica.\n",
    "# Para normalizar usamos el target (10^21 POTs), que es la estimacion para 3 años de datos en SBND y las POTs de cada muestra."
   ]
  }
 ],
 "metadata": {
  "kernelspec": {
   "display_name": "venv",
   "language": "python",
   "name": "python3"
  },
  "language_info": {
   "codemirror_mode": {
    "name": "ipython",
    "version": 3
   },
   "file_extension": ".py",
   "mimetype": "text/x-python",
   "name": "python",
   "nbconvert_exporter": "python",
   "pygments_lexer": "ipython3",
   "version": "3.10.12"
  }
 },
 "nbformat": 4,
 "nbformat_minor": 2
}
