{
 "cells": [
  {
   "cell_type": "markdown",
   "metadata": {},
   "source": [
    "## Ejemplo "
   ]
  },
  {
   "cell_type": "code",
   "execution_count": 3,
   "metadata": {},
   "outputs": [
    {
     "name": "stdout",
     "output_type": "stream",
     "text": [
      "Signal events in exlcusion limit:    10.574781335890293\n",
      "Signal events at reference coupling: 1000\n",
      "Ratio:                               0.010574781335890293\n",
      "\n",
      "Reference coupling:                  2e-05\n",
      "Coupling at exclusion limit:         2.056675116384724e-06\n"
     ]
    }
   ],
   "source": [
    "import numpy as np\n",
    "\n",
    "def asimov_exclusion_2(s,b,tau):  #considers background uncertainty\n",
    "    \"\"\" Asimov significance for a counting experiment\n",
    "    s: signal counts\n",
    "    b: background counts\n",
    "    tau: systematic uncertainty on b\n",
    "    \"\"\" \n",
    "    x=np.sqrt((s+b)**2-4*(s*b*tau**2)/(b+tau**2))\n",
    "    \n",
    "    log1 = np.log( (b+s+x) / (2*b) )\n",
    "    log2 = np.log( (b-s+x) / (2*b) )\n",
    "    \n",
    "    return ( 2*(s-b*log1-(b**2/tau**2)*log2 ) -(b+s-x)*(1+b/tau**2))**0.5\n",
    "\n",
    "\n",
    "def find_s_for_func(target, b, tau,func):  #bisection method, finds value x of the function func(x,b,tau) that equals target value;\n",
    "    # Define the function to find the root of\n",
    "    def f(x,func):\n",
    "        return func(x, b, tau) - target\n",
    "\n",
    "    # Set the initial bounds for the bisection method\n",
    "    lower_bound = 0\n",
    "    upper_bound = 1000\n",
    "\n",
    "    # Set the tolerance for the bisection method\n",
    "    tolerance = 1e-6\n",
    "\n",
    "    # Perform the bisection method\n",
    "    while upper_bound - lower_bound > tolerance:\n",
    "        mid_point = (lower_bound + upper_bound) / 2\n",
    "        if f(mid_point,func) > 0:\n",
    "            upper_bound = mid_point\n",
    "        else:\n",
    "            lower_bound = mid_point\n",
    "\n",
    "    return mid_point\n",
    "\n",
    "\n",
    "\n",
    "#Define the reference coupling\n",
    "Uref=2e-5\n",
    "\n",
    "\n",
    "#Selection example\n",
    "N_HNL=1000\n",
    "N_BCK=20\n",
    "\n",
    "\n",
    "# Usage example\n",
    "target_value = 1.645 #90% CL ~ 2 sigma\n",
    "b_value = N_BCK\n",
    "\n",
    "#background uncertainty(sqrt(N))\n",
    "tau_value = np.sqrt(b_value)\n",
    "\n",
    "#Find number of signal events at exclusion limit\n",
    "s_value = find_s_for_func(target_value, b_value, tau_value,asimov_exclusion_2)\n",
    "\n",
    "\n",
    "print(\"Signal events in exlcusion limit:   \",s_value)\n",
    "print(\"Signal events at reference coupling:\",N_HNL)\n",
    "print(\"Ratio:                              \",s_value/N_HNL)\n",
    "print() \n",
    "print(\"Reference coupling:                 \",Uref)  \n",
    "print(\"Coupling at exclusion limit:        \",Uref*np.sqrt(s_value/N_HNL))\n"
   ]
  },
  {
   "cell_type": "markdown",
   "metadata": {},
   "source": [
    "# Reference Couplings"
   ]
  },
  {
   "cell_type": "code",
   "execution_count": null,
   "metadata": {},
   "outputs": [],
   "source": [
    "# reference couplings at each mass point\n",
    "masses=[\n",
    "    10,\n",
    "    35,\n",
    "    100\n",
    "    ]\n",
    "\n",
    "couplings=[\n",
    "    3.32e-3,\n",
    "    3.82e-4,\n",
    "    2e-5]"
   ]
  }
 ],
 "metadata": {
  "kernelspec": {
   "display_name": "Python 3",
   "language": "python",
   "name": "python3"
  },
  "language_info": {
   "codemirror_mode": {
    "name": "ipython",
    "version": 3
   },
   "file_extension": ".py",
   "mimetype": "text/x-python",
   "name": "python",
   "nbconvert_exporter": "python",
   "pygments_lexer": "ipython3",
   "version": "3.10.12"
  }
 },
 "nbformat": 4,
 "nbformat_minor": 2
}
